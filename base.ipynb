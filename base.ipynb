{
 "cells": [
  {
   "cell_type": "code",
   "execution_count": null,
   "id": "710bd559",
   "metadata": {
    "scrolled": false
   },
   "outputs": [],
   "source": [
    "%run -i \"test.py\""
   ]
  },
  {
   "cell_type": "code",
   "execution_count": null,
   "id": "3f6d9b8e",
   "metadata": {},
   "outputs": [],
   "source": [
    "%run -i \"dynamiclayouts.py\""
   ]
  },
  {
   "cell_type": "code",
   "execution_count": null,
   "id": "b866fc92",
   "metadata": {},
   "outputs": [],
   "source": [
    "%run -i \"flowlayout.py\""
   ]
  },
  {
   "cell_type": "code",
   "execution_count": null,
   "id": "ee73c297",
   "metadata": {},
   "outputs": [],
   "source": [
    "import glob\n",
    "import os\n",
    "\n",
    "files = glob.glob(\"x:/*\")\n",
    "print(files)"
   ]
  }
 ],
 "metadata": {
  "kernelspec": {
   "display_name": "Python 3 (ipykernel)",
   "language": "python",
   "name": "python3"
  },
  "language_info": {
   "codemirror_mode": {
    "name": "ipython",
    "version": 3
   },
   "file_extension": ".py",
   "mimetype": "text/x-python",
   "name": "python",
   "nbconvert_exporter": "python",
   "pygments_lexer": "ipython3",
   "version": "3.9.7"
  }
 },
 "nbformat": 4,
 "nbformat_minor": 5
}
